{
  "cells": [
    {
      "cell_type": "markdown",
      "metadata": {},
      "source": [
        "# 📊 Projeto: Superlotação de Leitos Hospitalares\n",
        "\n",
        "Este notebook demonstra como realizar uma **previsão simples da Taxa de Ocupação Hospitalar** usando **Python, Pandas e Scikit-Learn**.\n",
        "\n",
        "**Como usar no Colab:**\n",
        "1) Faça upload do seu CSV `dados_hospitalares_corrigidos.csv` (ou ajuste o nome na célula de leitura)\n",
        "2) Execute as células em ordem (Runtime → Run all)\n",
        "3) Veja o gráfico com histórico + previsão para 6 meses\n"
      ]
    },
    {
      "cell_type": "code",
      "execution_count": null,
      "metadata": {},
      "outputs": [],
      "source": [
        "# 1) Instalar/Importar bibliotecas (no Colab, instale se necessário)\n",
        "!pip -q install pandas scikit-learn matplotlib\n",
        "\n",
        "import pandas as pd\n",
        "import matplotlib.pyplot as plt\n",
        "from sklearn.linear_model import LinearRegression\n",
        "from sklearn.model_selection import train_test_split\n",
        "from sklearn.metrics import mean_squared_error\n"
      ]
    },
    {
      "cell_type": "code",
      "execution_count": null,
      "metadata": {},
      "outputs": [],
      "source": [
        "# 2) Carregar dados\n",
        "from google.colab import files\n",
        "print('📥 Selecione o arquivo CSV (ex.: dados_hospitalares_corrigidos.csv)')\n",
        "uploaded = files.upload()\n",
        "\n",
        "# Nome padrão (ajuste se o seu arquivo tiver outro nome)\n",
        "csv_name = list(uploaded.keys())[0]\n",
        "df = pd.read_csv(csv_name)\n",
        "print('\\n✅ CSV carregado:', csv_name)\n",
        "df.head()"
      ]
    },
    {
      "cell_type": "code",
      "execution_count": null,
      "metadata": {},
      "outputs": [],
      "source": [
        "# 3) Pré-processamento\n",
        "df['AnoMes'] = pd.to_datetime(df['AnoMes'], errors='coerce')\n",
        "df['Mes_num'] = df['AnoMes'].dt.year * 12 + df['AnoMes'].dt.month\n",
        "\n",
        "# Conferir tipos\n",
        "print(df.dtypes)\n",
        "df.describe(include='all')"
      ]
    },
    {
      "cell_type": "code",
      "execution_count": null,
      "metadata": {},
      "outputs": [],
      "source": [
        "# 4) Treinar modelo simples (Regressão Linear)\n",
        "X = df[['Mes_num', 'Internacoes']]\n",
        "y = df['Taxa_Ocupacao']\n",
        "\n",
        "X_train, X_test, y_train, y_test = train_test_split(X, y, test_size=0.2, random_state=42)\n",
        "modelo = LinearRegression()\n",
        "modelo.fit(X_train, y_train)\n",
        "\n",
        "y_pred = modelo.predict(X_test)\n",
        "rmse = mean_squared_error(y_test, y_pred, squared=False)\n",
        "print(f'RMSE do modelo: {rmse:.2f}')"
      ]
    },
    {
      "cell_type": "code",
      "execution_count": null,
      "metadata": {},
      "outputs": [],
      "source": [
        "# 5) Previsão para os próximos 6 meses\n",
        "ultimo_mes = df['Mes_num'].max()\n",
        "media_internacoes = df['Internacoes'].mean()\n",
        "novos_meses = pd.DataFrame({\n",
        "    'Mes_num': [ultimo_mes + i for i in range(1, 7)],\n",
        "    'Internacoes': [media_internacoes] * 6\n",
        "})\n",
        "prev = modelo.predict(novos_meses)\n",
        "datas_prev = pd.date_range(df['AnoMes'].max(), periods=6, freq='M')\n",
        "\n",
        "# 6) Visualização (histórico + previsão)\n",
        "plt.figure(figsize=(12,6))\n",
        "plt.plot(df['AnoMes'], df['Taxa_Ocupacao'], label='Histórico')\n",
        "plt.plot(datas_prev, prev, label='Previsão (6 meses)', linestyle='--')\n",
        "plt.axhline(80, linestyle=':', label='Nível Atenção (80%)')\n",
        "plt.axhline(90, linestyle=':', label='Nível Crítico (90%)')\n",
        "plt.xlabel('Período')\n",
        "plt.ylabel('Taxa de Ocupação (%)')\n",
        "plt.title('📈 Previsão da Ocupação Hospitalar (6 meses)')\n",
        "plt.legend()\n",
        "plt.show()"
      ]
    },
    {
      "cell_type": "markdown",
      "metadata": {},
      "source": [
        "### Observações\n",
        "- Este é um **modelo simples** (Regressão Linear) para fins didáticos.\n",
        "- Você pode melhorar incluindo variáveis como **leitos disponíveis, sazonalidade, SRAG (SIVEP-Gripe)** e outras fontes.\n",
        "- Para usar no Looker, exporte as previsões como CSV e conecte como uma nova fonte."
      ]
    }
  ],
  "metadata": {
    "colab": {
      "name": "previsao_ocupacao_leitos.ipynb"
    },
    "kernelspec": {
      "display_name": "Python 3",
      "name": "python3"
    },
    "language_info": {
      "name": "python"
    }
  },
  "nbformat": 4,
  "nbformat_minor": 4
}